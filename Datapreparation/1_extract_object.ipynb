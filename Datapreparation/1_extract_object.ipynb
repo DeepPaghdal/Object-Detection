{
 "cells": [
  {
   "cell_type": "code",
   "execution_count": 34,
   "id": "49cd618f-8516-4308-8ad6-fb6188a75004",
   "metadata": {},
   "outputs": [],
   "source": [
    "import os \n",
    "from glob import glob\n",
    "import pandas as pd\n",
    "from functools import reduce\n",
    "from xml.etree import ElementTree as et"
   ]
  },
  {
   "cell_type": "code",
   "execution_count": 44,
   "id": "592968cd-015e-4122-b2ef-045465ebcb43",
   "metadata": {},
   "outputs": [],
   "source": [
    "# get path of xml file\n",
    "xmlfiles = glob('./data_images/*.xml')\n",
    "# replace\n",
    "replace_text = lambda x:x.replace('\\\\', '/')\n",
    "xmlfiles = list(map(replace_text, xmlfiles))"
   ]
  },
  {
   "cell_type": "code",
   "execution_count": 45,
   "id": "4fe49c93-5dab-4262-b25c-934322d8314f",
   "metadata": {},
   "outputs": [
    {
     "data": {
      "text/plain": [
       "[]"
      ]
     },
     "execution_count": 45,
     "metadata": {},
     "output_type": "execute_result"
    }
   ],
   "source": [
    "xmlfiles"
   ]
  },
  {
   "cell_type": "code",
   "execution_count": 4,
   "id": "84b6289d-9e3a-4126-9003-f217a9f919fb",
   "metadata": {},
   "outputs": [],
   "source": [
    "# read xml files \n",
    "def extract(filename):\n",
    "    tree = et.parse(filename)\n",
    "    root = tree.getroot()\n",
    "    \n",
    "    # extract filename \n",
    "    image_name = root.find('filename').text\n",
    "    # width and height\n",
    "    width = root.find('size').find('width').text\n",
    "    height = root.find('size').find('height').text\n",
    "    objs = root.findall('object')\n",
    "    parser = []\n",
    "    \n",
    "    for obj in objs:\n",
    "        \n",
    "        obj = objs[0]\n",
    "        name = obj.find('name').text\n",
    "        bndbox = obj.find('bndbox')\n",
    "        xmin = bndbox.find('xmin').text\n",
    "        xmax = bndbox.find('xmax').text\n",
    "        ymin = bndbox.find('ymin').text\n",
    "        ymax = bndbox.find('ymax').text\n",
    "        parser.append([image_name, width, height, name, xmin, xmax, ymin, ymax])\n",
    "        \n",
    "    return parser    "
   ]
  },
  {
   "cell_type": "code",
   "execution_count": 5,
   "id": "faca410c-bcf7-42c0-a76c-826d368f0a6a",
   "metadata": {},
   "outputs": [],
   "source": [
    "parser_all = list(map(extract, xmlfiles))"
   ]
  },
  {
   "cell_type": "code",
   "execution_count": 6,
   "id": "74708262-5ca7-4697-999f-9b836b53c965",
   "metadata": {},
   "outputs": [],
   "source": [
    "data = reduce(lambda x, y: x+y, parser_all)"
   ]
  },
  {
   "cell_type": "code",
   "execution_count": 7,
   "id": "cc2ffc2a-3b49-48dd-b921-6902c04a0886",
   "metadata": {},
   "outputs": [],
   "source": [
    "df = pd.DataFrame(data,columns = ['filename', 'width', 'height', 'name', 'xmin', 'xmax', 'ymin', 'ymax'])"
   ]
  },
  {
   "cell_type": "code",
   "execution_count": 8,
   "id": "fd82495c-314f-4dfc-8c65-a018aab6bf2c",
   "metadata": {},
   "outputs": [
    {
     "data": {
      "text/html": [
       "<div>\n",
       "<style scoped>\n",
       "    .dataframe tbody tr th:only-of-type {\n",
       "        vertical-align: middle;\n",
       "    }\n",
       "\n",
       "    .dataframe tbody tr th {\n",
       "        vertical-align: top;\n",
       "    }\n",
       "\n",
       "    .dataframe thead th {\n",
       "        text-align: right;\n",
       "    }\n",
       "</style>\n",
       "<table border=\"1\" class=\"dataframe\">\n",
       "  <thead>\n",
       "    <tr style=\"text-align: right;\">\n",
       "      <th></th>\n",
       "      <th>filename</th>\n",
       "      <th>width</th>\n",
       "      <th>height</th>\n",
       "      <th>name</th>\n",
       "      <th>xmin</th>\n",
       "      <th>xmax</th>\n",
       "      <th>ymin</th>\n",
       "      <th>ymax</th>\n",
       "    </tr>\n",
       "  </thead>\n",
       "  <tbody>\n",
       "    <tr>\n",
       "      <th>0</th>\n",
       "      <td>2011_006135.jpg</td>\n",
       "      <td>500</td>\n",
       "      <td>375</td>\n",
       "      <td>person</td>\n",
       "      <td>391</td>\n",
       "      <td>470</td>\n",
       "      <td>144</td>\n",
       "      <td>315</td>\n",
       "    </tr>\n",
       "    <tr>\n",
       "      <th>1</th>\n",
       "      <td>2008_006482.jpg</td>\n",
       "      <td>500</td>\n",
       "      <td>411</td>\n",
       "      <td>chair</td>\n",
       "      <td>155</td>\n",
       "      <td>233</td>\n",
       "      <td>321</td>\n",
       "      <td>411</td>\n",
       "    </tr>\n",
       "    <tr>\n",
       "      <th>2</th>\n",
       "      <td>2008_006482.jpg</td>\n",
       "      <td>500</td>\n",
       "      <td>411</td>\n",
       "      <td>chair</td>\n",
       "      <td>155</td>\n",
       "      <td>233</td>\n",
       "      <td>321</td>\n",
       "      <td>411</td>\n",
       "    </tr>\n",
       "    <tr>\n",
       "      <th>3</th>\n",
       "      <td>2010_005054.jpg</td>\n",
       "      <td>500</td>\n",
       "      <td>111</td>\n",
       "      <td>tvmonitor</td>\n",
       "      <td>86</td>\n",
       "      <td>121</td>\n",
       "      <td>34</td>\n",
       "      <td>70</td>\n",
       "    </tr>\n",
       "    <tr>\n",
       "      <th>4</th>\n",
       "      <td>2010_005054.jpg</td>\n",
       "      <td>500</td>\n",
       "      <td>111</td>\n",
       "      <td>tvmonitor</td>\n",
       "      <td>86</td>\n",
       "      <td>121</td>\n",
       "      <td>34</td>\n",
       "      <td>70</td>\n",
       "    </tr>\n",
       "  </tbody>\n",
       "</table>\n",
       "</div>"
      ],
      "text/plain": [
       "          filename width height       name xmin xmax ymin ymax\n",
       "0  2011_006135.jpg   500    375     person  391  470  144  315\n",
       "1  2008_006482.jpg   500    411      chair  155  233  321  411\n",
       "2  2008_006482.jpg   500    411      chair  155  233  321  411\n",
       "3  2010_005054.jpg   500    111  tvmonitor   86  121   34   70\n",
       "4  2010_005054.jpg   500    111  tvmonitor   86  121   34   70"
      ]
     },
     "execution_count": 8,
     "metadata": {},
     "output_type": "execute_result"
    }
   ],
   "source": [
    "df.head()"
   ]
  },
  {
   "cell_type": "code",
   "execution_count": 9,
   "id": "29538ed5-007d-45b3-b41b-f589b02a197a",
   "metadata": {},
   "outputs": [
    {
     "data": {
      "text/plain": [
       "(40138, 8)"
      ]
     },
     "execution_count": 9,
     "metadata": {},
     "output_type": "execute_result"
    }
   ],
   "source": [
    "df.shape"
   ]
  },
  {
   "cell_type": "code",
   "execution_count": 10,
   "id": "6e1549e4-1197-48e8-b4f4-38709f1fc929",
   "metadata": {},
   "outputs": [
    {
     "data": {
      "text/plain": [
       "name\n",
       "person         13137\n",
       "car             2480\n",
       "chair           2207\n",
       "dog             2128\n",
       "diningtable     1681\n",
       "bottle          1493\n",
       "cat             1492\n",
       "bus             1376\n",
       "tvmonitor       1374\n",
       "boat            1365\n",
       "bicycle         1301\n",
       "bird            1286\n",
       "aeroplane       1267\n",
       "sheep           1191\n",
       "sofa            1177\n",
       "horse           1168\n",
       "motorbike       1145\n",
       "pottedplant     1068\n",
       "train            957\n",
       "cow              845\n",
       "Name: count, dtype: int64"
      ]
     },
     "execution_count": 10,
     "metadata": {},
     "output_type": "execute_result"
    }
   ],
   "source": [
    "df['name'].value_counts()"
   ]
  },
  {
   "cell_type": "code",
   "execution_count": 11,
   "id": "20382223-2439-4eb9-ab69-742612120558",
   "metadata": {},
   "outputs": [
    {
     "name": "stdout",
     "output_type": "stream",
     "text": [
      "<class 'pandas.core.frame.DataFrame'>\n",
      "RangeIndex: 40138 entries, 0 to 40137\n",
      "Data columns (total 8 columns):\n",
      " #   Column    Non-Null Count  Dtype \n",
      "---  ------    --------------  ----- \n",
      " 0   filename  40138 non-null  object\n",
      " 1   width     40138 non-null  object\n",
      " 2   height    40138 non-null  object\n",
      " 3   name      40138 non-null  object\n",
      " 4   xmin      40138 non-null  object\n",
      " 5   xmax      40138 non-null  object\n",
      " 6   ymin      40138 non-null  object\n",
      " 7   ymax      40138 non-null  object\n",
      "dtypes: object(8)\n",
      "memory usage: 2.4+ MB\n"
     ]
    }
   ],
   "source": [
    "df.info()"
   ]
  },
  {
   "cell_type": "code",
   "execution_count": 12,
   "id": "ac7b32d2-1c1b-4a02-9497-71428d864327",
   "metadata": {},
   "outputs": [
    {
     "name": "stdout",
     "output_type": "stream",
     "text": [
      "<class 'pandas.core.frame.DataFrame'>\n",
      "RangeIndex: 40138 entries, 0 to 40137\n",
      "Data columns (total 8 columns):\n",
      " #   Column    Non-Null Count  Dtype \n",
      "---  ------    --------------  ----- \n",
      " 0   filename  40138 non-null  object\n",
      " 1   width     40138 non-null  int64 \n",
      " 2   height    40138 non-null  int64 \n",
      " 3   name      40138 non-null  object\n",
      " 4   xmin      40138 non-null  int64 \n",
      " 5   xmax      40138 non-null  int64 \n",
      " 6   ymin      40138 non-null  int64 \n",
      " 7   ymax      40138 non-null  int64 \n",
      "dtypes: int64(6), object(2)\n",
      "memory usage: 2.4+ MB\n"
     ]
    }
   ],
   "source": [
    "#type-conversion\n",
    "cols = ['width', 'height', 'xmin', 'xmax', 'ymin', 'ymax']\n",
    "df[cols] = df[cols].apply(pd.to_numeric, errors='coerce').round(0).astype(int)\n",
    "df.info()"
   ]
  },
  {
   "cell_type": "code",
   "execution_count": 13,
   "id": "fbf4da12-7044-4b1e-9222-08b161d88e0c",
   "metadata": {},
   "outputs": [],
   "source": [
    "# center of x and y\n",
    "df['center_x'] = ((df['xmax']+df['xmin'])/2)/df['width']\n",
    "df['center_y'] = ((df['ymax']+df['ymin'])/2)/df['height']\n",
    "\n",
    "df['w'] = (df['xmax']-df['xmin'])/df['width']\n",
    "df['h'] = (df['ymax']-df['ymin'])/df['height']"
   ]
  },
  {
   "cell_type": "code",
   "execution_count": 14,
   "id": "2b932f11-e8fa-4638-a328-86a2320514d9",
   "metadata": {},
   "outputs": [
    {
     "data": {
      "text/html": [
       "<div>\n",
       "<style scoped>\n",
       "    .dataframe tbody tr th:only-of-type {\n",
       "        vertical-align: middle;\n",
       "    }\n",
       "\n",
       "    .dataframe tbody tr th {\n",
       "        vertical-align: top;\n",
       "    }\n",
       "\n",
       "    .dataframe thead th {\n",
       "        text-align: right;\n",
       "    }\n",
       "</style>\n",
       "<table border=\"1\" class=\"dataframe\">\n",
       "  <thead>\n",
       "    <tr style=\"text-align: right;\">\n",
       "      <th></th>\n",
       "      <th>filename</th>\n",
       "      <th>width</th>\n",
       "      <th>height</th>\n",
       "      <th>name</th>\n",
       "      <th>xmin</th>\n",
       "      <th>xmax</th>\n",
       "      <th>ymin</th>\n",
       "      <th>ymax</th>\n",
       "      <th>center_x</th>\n",
       "      <th>center_y</th>\n",
       "      <th>w</th>\n",
       "      <th>h</th>\n",
       "    </tr>\n",
       "  </thead>\n",
       "  <tbody>\n",
       "    <tr>\n",
       "      <th>0</th>\n",
       "      <td>2011_006135.jpg</td>\n",
       "      <td>500</td>\n",
       "      <td>375</td>\n",
       "      <td>person</td>\n",
       "      <td>391</td>\n",
       "      <td>470</td>\n",
       "      <td>144</td>\n",
       "      <td>315</td>\n",
       "      <td>0.861</td>\n",
       "      <td>0.612000</td>\n",
       "      <td>0.158</td>\n",
       "      <td>0.456000</td>\n",
       "    </tr>\n",
       "    <tr>\n",
       "      <th>1</th>\n",
       "      <td>2008_006482.jpg</td>\n",
       "      <td>500</td>\n",
       "      <td>411</td>\n",
       "      <td>chair</td>\n",
       "      <td>155</td>\n",
       "      <td>233</td>\n",
       "      <td>321</td>\n",
       "      <td>411</td>\n",
       "      <td>0.388</td>\n",
       "      <td>0.890511</td>\n",
       "      <td>0.156</td>\n",
       "      <td>0.218978</td>\n",
       "    </tr>\n",
       "    <tr>\n",
       "      <th>2</th>\n",
       "      <td>2008_006482.jpg</td>\n",
       "      <td>500</td>\n",
       "      <td>411</td>\n",
       "      <td>chair</td>\n",
       "      <td>155</td>\n",
       "      <td>233</td>\n",
       "      <td>321</td>\n",
       "      <td>411</td>\n",
       "      <td>0.388</td>\n",
       "      <td>0.890511</td>\n",
       "      <td>0.156</td>\n",
       "      <td>0.218978</td>\n",
       "    </tr>\n",
       "    <tr>\n",
       "      <th>3</th>\n",
       "      <td>2010_005054.jpg</td>\n",
       "      <td>500</td>\n",
       "      <td>111</td>\n",
       "      <td>tvmonitor</td>\n",
       "      <td>86</td>\n",
       "      <td>121</td>\n",
       "      <td>34</td>\n",
       "      <td>70</td>\n",
       "      <td>0.207</td>\n",
       "      <td>0.468468</td>\n",
       "      <td>0.070</td>\n",
       "      <td>0.324324</td>\n",
       "    </tr>\n",
       "    <tr>\n",
       "      <th>4</th>\n",
       "      <td>2010_005054.jpg</td>\n",
       "      <td>500</td>\n",
       "      <td>111</td>\n",
       "      <td>tvmonitor</td>\n",
       "      <td>86</td>\n",
       "      <td>121</td>\n",
       "      <td>34</td>\n",
       "      <td>70</td>\n",
       "      <td>0.207</td>\n",
       "      <td>0.468468</td>\n",
       "      <td>0.070</td>\n",
       "      <td>0.324324</td>\n",
       "    </tr>\n",
       "  </tbody>\n",
       "</table>\n",
       "</div>"
      ],
      "text/plain": [
       "          filename  width  height       name  xmin  xmax  ymin  ymax  \\\n",
       "0  2011_006135.jpg    500     375     person   391   470   144   315   \n",
       "1  2008_006482.jpg    500     411      chair   155   233   321   411   \n",
       "2  2008_006482.jpg    500     411      chair   155   233   321   411   \n",
       "3  2010_005054.jpg    500     111  tvmonitor    86   121    34    70   \n",
       "4  2010_005054.jpg    500     111  tvmonitor    86   121    34    70   \n",
       "\n",
       "   center_x  center_y      w         h  \n",
       "0     0.861  0.612000  0.158  0.456000  \n",
       "1     0.388  0.890511  0.156  0.218978  \n",
       "2     0.388  0.890511  0.156  0.218978  \n",
       "3     0.207  0.468468  0.070  0.324324  \n",
       "4     0.207  0.468468  0.070  0.324324  "
      ]
     },
     "execution_count": 14,
     "metadata": {},
     "output_type": "execute_result"
    }
   ],
   "source": [
    "df.head()"
   ]
  },
  {
   "cell_type": "markdown",
   "id": "5892928f-8abc-4fd1-9c79-5e5eb5d75f25",
   "metadata": {},
   "source": [
    "## Split the Data into test and train"
   ]
  },
  {
   "cell_type": "code",
   "execution_count": 15,
   "id": "bd40fad0-e9d6-41b5-a285-ca3a45f08509",
   "metadata": {},
   "outputs": [],
   "source": [
    "images = df['filename'].unique()"
   ]
  },
  {
   "cell_type": "code",
   "execution_count": 16,
   "id": "bb90b2da-1473-49bb-9684-4e27ef25a65d",
   "metadata": {},
   "outputs": [
    {
     "data": {
      "text/plain": [
       "17125"
      ]
     },
     "execution_count": 16,
     "metadata": {},
     "output_type": "execute_result"
    }
   ],
   "source": [
    "len(images)"
   ]
  },
  {
   "cell_type": "code",
   "execution_count": 17,
   "id": "91f80d80-45d8-4f91-93b2-e33e84ca2712",
   "metadata": {},
   "outputs": [],
   "source": [
    "# 80% train and 20% test\n",
    "img_df = pd.DataFrame(images, columns = ['filename'])\n",
    "img_train = tuple(img_df.sample(frac=0.8)['filename']) # shuffle and pick 80% of images"
   ]
  },
  {
   "cell_type": "code",
   "execution_count": 18,
   "id": "691424ea-4c0e-43af-9109-449b39e353e8",
   "metadata": {},
   "outputs": [],
   "source": [
    "img_test = tuple(img_df.query(f'filename not in {img_train}')['filename']) # rest 20% of images "
   ]
  },
  {
   "cell_type": "code",
   "execution_count": 19,
   "id": "d45d5502-c278-4967-ab78-886df049d46c",
   "metadata": {},
   "outputs": [
    {
     "data": {
      "text/plain": [
       "(13700, 3425)"
      ]
     },
     "execution_count": 19,
     "metadata": {},
     "output_type": "execute_result"
    }
   ],
   "source": [
    "len(img_train), len(img_test)"
   ]
  },
  {
   "cell_type": "code",
   "execution_count": 20,
   "id": "0fc6e1aa-f9a7-430c-a0ed-458c3c0e55ed",
   "metadata": {},
   "outputs": [],
   "source": [
    "train_df = df.query(f'filename in {img_train}')\n",
    "test_df = df.query(f'filename in {img_test}')"
   ]
  },
  {
   "cell_type": "code",
   "execution_count": 21,
   "id": "fa683f9c-6e21-4a9b-be88-0fa0657e26d6",
   "metadata": {},
   "outputs": [
    {
     "data": {
      "text/html": [
       "<div>\n",
       "<style scoped>\n",
       "    .dataframe tbody tr th:only-of-type {\n",
       "        vertical-align: middle;\n",
       "    }\n",
       "\n",
       "    .dataframe tbody tr th {\n",
       "        vertical-align: top;\n",
       "    }\n",
       "\n",
       "    .dataframe thead th {\n",
       "        text-align: right;\n",
       "    }\n",
       "</style>\n",
       "<table border=\"1\" class=\"dataframe\">\n",
       "  <thead>\n",
       "    <tr style=\"text-align: right;\">\n",
       "      <th></th>\n",
       "      <th>filename</th>\n",
       "      <th>width</th>\n",
       "      <th>height</th>\n",
       "      <th>name</th>\n",
       "      <th>xmin</th>\n",
       "      <th>xmax</th>\n",
       "      <th>ymin</th>\n",
       "      <th>ymax</th>\n",
       "      <th>center_x</th>\n",
       "      <th>center_y</th>\n",
       "      <th>w</th>\n",
       "      <th>h</th>\n",
       "    </tr>\n",
       "  </thead>\n",
       "  <tbody>\n",
       "    <tr>\n",
       "      <th>1</th>\n",
       "      <td>2008_006482.jpg</td>\n",
       "      <td>500</td>\n",
       "      <td>411</td>\n",
       "      <td>chair</td>\n",
       "      <td>155</td>\n",
       "      <td>233</td>\n",
       "      <td>321</td>\n",
       "      <td>411</td>\n",
       "      <td>0.388</td>\n",
       "      <td>0.890511</td>\n",
       "      <td>0.156</td>\n",
       "      <td>0.218978</td>\n",
       "    </tr>\n",
       "    <tr>\n",
       "      <th>2</th>\n",
       "      <td>2008_006482.jpg</td>\n",
       "      <td>500</td>\n",
       "      <td>411</td>\n",
       "      <td>chair</td>\n",
       "      <td>155</td>\n",
       "      <td>233</td>\n",
       "      <td>321</td>\n",
       "      <td>411</td>\n",
       "      <td>0.388</td>\n",
       "      <td>0.890511</td>\n",
       "      <td>0.156</td>\n",
       "      <td>0.218978</td>\n",
       "    </tr>\n",
       "    <tr>\n",
       "      <th>3</th>\n",
       "      <td>2010_005054.jpg</td>\n",
       "      <td>500</td>\n",
       "      <td>111</td>\n",
       "      <td>tvmonitor</td>\n",
       "      <td>86</td>\n",
       "      <td>121</td>\n",
       "      <td>34</td>\n",
       "      <td>70</td>\n",
       "      <td>0.207</td>\n",
       "      <td>0.468468</td>\n",
       "      <td>0.070</td>\n",
       "      <td>0.324324</td>\n",
       "    </tr>\n",
       "    <tr>\n",
       "      <th>4</th>\n",
       "      <td>2010_005054.jpg</td>\n",
       "      <td>500</td>\n",
       "      <td>111</td>\n",
       "      <td>tvmonitor</td>\n",
       "      <td>86</td>\n",
       "      <td>121</td>\n",
       "      <td>34</td>\n",
       "      <td>70</td>\n",
       "      <td>0.207</td>\n",
       "      <td>0.468468</td>\n",
       "      <td>0.070</td>\n",
       "      <td>0.324324</td>\n",
       "    </tr>\n",
       "    <tr>\n",
       "      <th>5</th>\n",
       "      <td>2010_005054.jpg</td>\n",
       "      <td>500</td>\n",
       "      <td>111</td>\n",
       "      <td>tvmonitor</td>\n",
       "      <td>86</td>\n",
       "      <td>121</td>\n",
       "      <td>34</td>\n",
       "      <td>70</td>\n",
       "      <td>0.207</td>\n",
       "      <td>0.468468</td>\n",
       "      <td>0.070</td>\n",
       "      <td>0.324324</td>\n",
       "    </tr>\n",
       "  </tbody>\n",
       "</table>\n",
       "</div>"
      ],
      "text/plain": [
       "          filename  width  height       name  xmin  xmax  ymin  ymax  \\\n",
       "1  2008_006482.jpg    500     411      chair   155   233   321   411   \n",
       "2  2008_006482.jpg    500     411      chair   155   233   321   411   \n",
       "3  2010_005054.jpg    500     111  tvmonitor    86   121    34    70   \n",
       "4  2010_005054.jpg    500     111  tvmonitor    86   121    34    70   \n",
       "5  2010_005054.jpg    500     111  tvmonitor    86   121    34    70   \n",
       "\n",
       "   center_x  center_y      w         h  \n",
       "1     0.388  0.890511  0.156  0.218978  \n",
       "2     0.388  0.890511  0.156  0.218978  \n",
       "3     0.207  0.468468  0.070  0.324324  \n",
       "4     0.207  0.468468  0.070  0.324324  \n",
       "5     0.207  0.468468  0.070  0.324324  "
      ]
     },
     "execution_count": 21,
     "metadata": {},
     "output_type": "execute_result"
    }
   ],
   "source": [
    "train_df.head()"
   ]
  },
  {
   "cell_type": "code",
   "execution_count": 22,
   "id": "f5a7375d-92d6-45af-934c-7ac1a872de66",
   "metadata": {},
   "outputs": [
    {
     "data": {
      "text/html": [
       "<div>\n",
       "<style scoped>\n",
       "    .dataframe tbody tr th:only-of-type {\n",
       "        vertical-align: middle;\n",
       "    }\n",
       "\n",
       "    .dataframe tbody tr th {\n",
       "        vertical-align: top;\n",
       "    }\n",
       "\n",
       "    .dataframe thead th {\n",
       "        text-align: right;\n",
       "    }\n",
       "</style>\n",
       "<table border=\"1\" class=\"dataframe\">\n",
       "  <thead>\n",
       "    <tr style=\"text-align: right;\">\n",
       "      <th></th>\n",
       "      <th>filename</th>\n",
       "      <th>width</th>\n",
       "      <th>height</th>\n",
       "      <th>name</th>\n",
       "      <th>xmin</th>\n",
       "      <th>xmax</th>\n",
       "      <th>ymin</th>\n",
       "      <th>ymax</th>\n",
       "      <th>center_x</th>\n",
       "      <th>center_y</th>\n",
       "      <th>w</th>\n",
       "      <th>h</th>\n",
       "    </tr>\n",
       "  </thead>\n",
       "  <tbody>\n",
       "    <tr>\n",
       "      <th>0</th>\n",
       "      <td>2011_006135.jpg</td>\n",
       "      <td>500</td>\n",
       "      <td>375</td>\n",
       "      <td>person</td>\n",
       "      <td>391</td>\n",
       "      <td>470</td>\n",
       "      <td>144</td>\n",
       "      <td>315</td>\n",
       "      <td>0.861</td>\n",
       "      <td>0.612000</td>\n",
       "      <td>0.158</td>\n",
       "      <td>0.456000</td>\n",
       "    </tr>\n",
       "    <tr>\n",
       "      <th>9</th>\n",
       "      <td>2010_003343.jpg</td>\n",
       "      <td>500</td>\n",
       "      <td>375</td>\n",
       "      <td>sheep</td>\n",
       "      <td>68</td>\n",
       "      <td>264</td>\n",
       "      <td>122</td>\n",
       "      <td>232</td>\n",
       "      <td>0.332</td>\n",
       "      <td>0.472000</td>\n",
       "      <td>0.392</td>\n",
       "      <td>0.293333</td>\n",
       "    </tr>\n",
       "    <tr>\n",
       "      <th>10</th>\n",
       "      <td>2010_003343.jpg</td>\n",
       "      <td>500</td>\n",
       "      <td>375</td>\n",
       "      <td>sheep</td>\n",
       "      <td>68</td>\n",
       "      <td>264</td>\n",
       "      <td>122</td>\n",
       "      <td>232</td>\n",
       "      <td>0.332</td>\n",
       "      <td>0.472000</td>\n",
       "      <td>0.392</td>\n",
       "      <td>0.293333</td>\n",
       "    </tr>\n",
       "    <tr>\n",
       "      <th>14</th>\n",
       "      <td>2008_000795.jpg</td>\n",
       "      <td>500</td>\n",
       "      <td>332</td>\n",
       "      <td>person</td>\n",
       "      <td>1</td>\n",
       "      <td>232</td>\n",
       "      <td>82</td>\n",
       "      <td>332</td>\n",
       "      <td>0.233</td>\n",
       "      <td>0.623494</td>\n",
       "      <td>0.462</td>\n",
       "      <td>0.753012</td>\n",
       "    </tr>\n",
       "    <tr>\n",
       "      <th>15</th>\n",
       "      <td>2008_000795.jpg</td>\n",
       "      <td>500</td>\n",
       "      <td>332</td>\n",
       "      <td>person</td>\n",
       "      <td>1</td>\n",
       "      <td>232</td>\n",
       "      <td>82</td>\n",
       "      <td>332</td>\n",
       "      <td>0.233</td>\n",
       "      <td>0.623494</td>\n",
       "      <td>0.462</td>\n",
       "      <td>0.753012</td>\n",
       "    </tr>\n",
       "  </tbody>\n",
       "</table>\n",
       "</div>"
      ],
      "text/plain": [
       "           filename  width  height    name  xmin  xmax  ymin  ymax  center_x  \\\n",
       "0   2011_006135.jpg    500     375  person   391   470   144   315     0.861   \n",
       "9   2010_003343.jpg    500     375   sheep    68   264   122   232     0.332   \n",
       "10  2010_003343.jpg    500     375   sheep    68   264   122   232     0.332   \n",
       "14  2008_000795.jpg    500     332  person     1   232    82   332     0.233   \n",
       "15  2008_000795.jpg    500     332  person     1   232    82   332     0.233   \n",
       "\n",
       "    center_y      w         h  \n",
       "0   0.612000  0.158  0.456000  \n",
       "9   0.472000  0.392  0.293333  \n",
       "10  0.472000  0.392  0.293333  \n",
       "14  0.623494  0.462  0.753012  \n",
       "15  0.623494  0.462  0.753012  "
      ]
     },
     "execution_count": 22,
     "metadata": {},
     "output_type": "execute_result"
    }
   ],
   "source": [
    "test_df.head()"
   ]
  },
  {
   "cell_type": "markdown",
   "id": "7ede73c5-06b7-48cf-9a02-37b390d424a2",
   "metadata": {},
   "source": [
    "## Assign ID to object name "
   ]
  },
  {
   "cell_type": "code",
   "execution_count": 23,
   "id": "1557bbed-6151-42ea-bf9d-b8ff6f050a15",
   "metadata": {},
   "outputs": [],
   "source": [
    "# label encoding\n",
    "def label_encoding(x):\n",
    "    label = {'person':0, 'car':1, 'chair':2, 'dog':3, 'diningtable':4, 'bottle':5, 'cat':6, 'bus':7, 'tvmonitor':8, 'boat':9, 'bicycle':10, 'bird':11, 'aeroplane':12, 'sheep':13, 'sofa':14, 'horse':15, 'motorbike':16, 'pottedplant':17, 'train':18, 'cow':19}\n",
    "    return label[x]    "
   ]
  },
  {
   "cell_type": "code",
   "execution_count": 25,
   "id": "2d0e2323-78d2-4202-8fc6-3988c1d107f8",
   "metadata": {},
   "outputs": [],
   "source": [
    "train_df.loc[:, 'id'] = train_df['name'].apply(label_encoding)\n",
    "test_df.loc[:, 'id'] = test_df['name'].apply(label_encoding)"
   ]
  },
  {
   "cell_type": "code",
   "execution_count": 26,
   "id": "beb65f1f-5b60-499e-9995-9714e8c2dbe7",
   "metadata": {},
   "outputs": [
    {
     "data": {
      "text/html": [
       "<div>\n",
       "<style scoped>\n",
       "    .dataframe tbody tr th:only-of-type {\n",
       "        vertical-align: middle;\n",
       "    }\n",
       "\n",
       "    .dataframe tbody tr th {\n",
       "        vertical-align: top;\n",
       "    }\n",
       "\n",
       "    .dataframe thead th {\n",
       "        text-align: right;\n",
       "    }\n",
       "</style>\n",
       "<table border=\"1\" class=\"dataframe\">\n",
       "  <thead>\n",
       "    <tr style=\"text-align: right;\">\n",
       "      <th></th>\n",
       "      <th>filename</th>\n",
       "      <th>width</th>\n",
       "      <th>height</th>\n",
       "      <th>name</th>\n",
       "      <th>xmin</th>\n",
       "      <th>xmax</th>\n",
       "      <th>ymin</th>\n",
       "      <th>ymax</th>\n",
       "      <th>center_x</th>\n",
       "      <th>center_y</th>\n",
       "      <th>w</th>\n",
       "      <th>h</th>\n",
       "      <th>id</th>\n",
       "    </tr>\n",
       "  </thead>\n",
       "  <tbody>\n",
       "    <tr>\n",
       "      <th>1</th>\n",
       "      <td>2008_006482.jpg</td>\n",
       "      <td>500</td>\n",
       "      <td>411</td>\n",
       "      <td>chair</td>\n",
       "      <td>155</td>\n",
       "      <td>233</td>\n",
       "      <td>321</td>\n",
       "      <td>411</td>\n",
       "      <td>0.388</td>\n",
       "      <td>0.890511</td>\n",
       "      <td>0.156</td>\n",
       "      <td>0.218978</td>\n",
       "      <td>2</td>\n",
       "    </tr>\n",
       "    <tr>\n",
       "      <th>2</th>\n",
       "      <td>2008_006482.jpg</td>\n",
       "      <td>500</td>\n",
       "      <td>411</td>\n",
       "      <td>chair</td>\n",
       "      <td>155</td>\n",
       "      <td>233</td>\n",
       "      <td>321</td>\n",
       "      <td>411</td>\n",
       "      <td>0.388</td>\n",
       "      <td>0.890511</td>\n",
       "      <td>0.156</td>\n",
       "      <td>0.218978</td>\n",
       "      <td>2</td>\n",
       "    </tr>\n",
       "    <tr>\n",
       "      <th>3</th>\n",
       "      <td>2010_005054.jpg</td>\n",
       "      <td>500</td>\n",
       "      <td>111</td>\n",
       "      <td>tvmonitor</td>\n",
       "      <td>86</td>\n",
       "      <td>121</td>\n",
       "      <td>34</td>\n",
       "      <td>70</td>\n",
       "      <td>0.207</td>\n",
       "      <td>0.468468</td>\n",
       "      <td>0.070</td>\n",
       "      <td>0.324324</td>\n",
       "      <td>8</td>\n",
       "    </tr>\n",
       "    <tr>\n",
       "      <th>4</th>\n",
       "      <td>2010_005054.jpg</td>\n",
       "      <td>500</td>\n",
       "      <td>111</td>\n",
       "      <td>tvmonitor</td>\n",
       "      <td>86</td>\n",
       "      <td>121</td>\n",
       "      <td>34</td>\n",
       "      <td>70</td>\n",
       "      <td>0.207</td>\n",
       "      <td>0.468468</td>\n",
       "      <td>0.070</td>\n",
       "      <td>0.324324</td>\n",
       "      <td>8</td>\n",
       "    </tr>\n",
       "    <tr>\n",
       "      <th>5</th>\n",
       "      <td>2010_005054.jpg</td>\n",
       "      <td>500</td>\n",
       "      <td>111</td>\n",
       "      <td>tvmonitor</td>\n",
       "      <td>86</td>\n",
       "      <td>121</td>\n",
       "      <td>34</td>\n",
       "      <td>70</td>\n",
       "      <td>0.207</td>\n",
       "      <td>0.468468</td>\n",
       "      <td>0.070</td>\n",
       "      <td>0.324324</td>\n",
       "      <td>8</td>\n",
       "    </tr>\n",
       "    <tr>\n",
       "      <th>6</th>\n",
       "      <td>2010_005732.jpg</td>\n",
       "      <td>500</td>\n",
       "      <td>375</td>\n",
       "      <td>cat</td>\n",
       "      <td>181</td>\n",
       "      <td>500</td>\n",
       "      <td>1</td>\n",
       "      <td>375</td>\n",
       "      <td>0.681</td>\n",
       "      <td>0.501333</td>\n",
       "      <td>0.638</td>\n",
       "      <td>0.997333</td>\n",
       "      <td>6</td>\n",
       "    </tr>\n",
       "    <tr>\n",
       "      <th>7</th>\n",
       "      <td>2011_004044.jpg</td>\n",
       "      <td>500</td>\n",
       "      <td>375</td>\n",
       "      <td>person</td>\n",
       "      <td>220</td>\n",
       "      <td>337</td>\n",
       "      <td>143</td>\n",
       "      <td>375</td>\n",
       "      <td>0.557</td>\n",
       "      <td>0.690667</td>\n",
       "      <td>0.234</td>\n",
       "      <td>0.618667</td>\n",
       "      <td>0</td>\n",
       "    </tr>\n",
       "    <tr>\n",
       "      <th>8</th>\n",
       "      <td>2011_004044.jpg</td>\n",
       "      <td>500</td>\n",
       "      <td>375</td>\n",
       "      <td>person</td>\n",
       "      <td>220</td>\n",
       "      <td>337</td>\n",
       "      <td>143</td>\n",
       "      <td>375</td>\n",
       "      <td>0.557</td>\n",
       "      <td>0.690667</td>\n",
       "      <td>0.234</td>\n",
       "      <td>0.618667</td>\n",
       "      <td>0</td>\n",
       "    </tr>\n",
       "    <tr>\n",
       "      <th>11</th>\n",
       "      <td>2011_002435.jpg</td>\n",
       "      <td>500</td>\n",
       "      <td>375</td>\n",
       "      <td>sofa</td>\n",
       "      <td>23</td>\n",
       "      <td>500</td>\n",
       "      <td>56</td>\n",
       "      <td>375</td>\n",
       "      <td>0.523</td>\n",
       "      <td>0.574667</td>\n",
       "      <td>0.954</td>\n",
       "      <td>0.850667</td>\n",
       "      <td>14</td>\n",
       "    </tr>\n",
       "    <tr>\n",
       "      <th>12</th>\n",
       "      <td>2011_002435.jpg</td>\n",
       "      <td>500</td>\n",
       "      <td>375</td>\n",
       "      <td>sofa</td>\n",
       "      <td>23</td>\n",
       "      <td>500</td>\n",
       "      <td>56</td>\n",
       "      <td>375</td>\n",
       "      <td>0.523</td>\n",
       "      <td>0.574667</td>\n",
       "      <td>0.954</td>\n",
       "      <td>0.850667</td>\n",
       "      <td>14</td>\n",
       "    </tr>\n",
       "  </tbody>\n",
       "</table>\n",
       "</div>"
      ],
      "text/plain": [
       "           filename  width  height       name  xmin  xmax  ymin  ymax  \\\n",
       "1   2008_006482.jpg    500     411      chair   155   233   321   411   \n",
       "2   2008_006482.jpg    500     411      chair   155   233   321   411   \n",
       "3   2010_005054.jpg    500     111  tvmonitor    86   121    34    70   \n",
       "4   2010_005054.jpg    500     111  tvmonitor    86   121    34    70   \n",
       "5   2010_005054.jpg    500     111  tvmonitor    86   121    34    70   \n",
       "6   2010_005732.jpg    500     375        cat   181   500     1   375   \n",
       "7   2011_004044.jpg    500     375     person   220   337   143   375   \n",
       "8   2011_004044.jpg    500     375     person   220   337   143   375   \n",
       "11  2011_002435.jpg    500     375       sofa    23   500    56   375   \n",
       "12  2011_002435.jpg    500     375       sofa    23   500    56   375   \n",
       "\n",
       "    center_x  center_y      w         h  id  \n",
       "1      0.388  0.890511  0.156  0.218978   2  \n",
       "2      0.388  0.890511  0.156  0.218978   2  \n",
       "3      0.207  0.468468  0.070  0.324324   8  \n",
       "4      0.207  0.468468  0.070  0.324324   8  \n",
       "5      0.207  0.468468  0.070  0.324324   8  \n",
       "6      0.681  0.501333  0.638  0.997333   6  \n",
       "7      0.557  0.690667  0.234  0.618667   0  \n",
       "8      0.557  0.690667  0.234  0.618667   0  \n",
       "11     0.523  0.574667  0.954  0.850667  14  \n",
       "12     0.523  0.574667  0.954  0.850667  14  "
      ]
     },
     "execution_count": 26,
     "metadata": {},
     "output_type": "execute_result"
    }
   ],
   "source": [
    "train_df.head(10)"
   ]
  },
  {
   "cell_type": "markdown",
   "id": "dbff6c4f-51d7-4e61-8e9b-7ae25f86323d",
   "metadata": {},
   "source": [
    "## Save Imange and Labels in text"
   ]
  },
  {
   "cell_type": "code",
   "execution_count": 27,
   "id": "43595e46-adb9-44d6-b730-e6d18281ed42",
   "metadata": {},
   "outputs": [],
   "source": [
    "import os\n",
    "from shutil import move"
   ]
  },
  {
   "cell_type": "code",
   "execution_count": 28,
   "id": "11bfb099-576e-4014-87e9-4598664074ef",
   "metadata": {},
   "outputs": [
    {
     "ename": "FileExistsError",
     "evalue": "[Errno 17] File exists: 'data_images/train'",
     "output_type": "error",
     "traceback": [
      "\u001b[0;31m---------------------------------------------------------------------------\u001b[0m",
      "\u001b[0;31mFileExistsError\u001b[0m                           Traceback (most recent call last)",
      "Cell \u001b[0;32mIn[28], line 4\u001b[0m\n\u001b[1;32m      1\u001b[0m train_folder \u001b[38;5;241m=\u001b[39m \u001b[38;5;124m'\u001b[39m\u001b[38;5;124mdata_images/train\u001b[39m\u001b[38;5;124m'\u001b[39m\n\u001b[1;32m      2\u001b[0m test_folder \u001b[38;5;241m=\u001b[39m \u001b[38;5;124m'\u001b[39m\u001b[38;5;124mdata_images/test\u001b[39m\u001b[38;5;124m'\u001b[39m\n\u001b[0;32m----> 4\u001b[0m \u001b[43mos\u001b[49m\u001b[38;5;241;43m.\u001b[39;49m\u001b[43mmkdir\u001b[49m\u001b[43m(\u001b[49m\u001b[43mtrain_folder\u001b[49m\u001b[43m)\u001b[49m\n\u001b[1;32m      5\u001b[0m os\u001b[38;5;241m.\u001b[39mmkdir(test_folder)\n",
      "\u001b[0;31mFileExistsError\u001b[0m: [Errno 17] File exists: 'data_images/train'"
     ]
    }
   ],
   "source": [
    "train_folder = 'data_images/train'\n",
    "test_folder = 'data_images/test'\n",
    "\n",
    "os.mkdir(train_folder)\n",
    "os.mkdir(test_folder)"
   ]
  },
  {
   "cell_type": "code",
   "execution_count": 29,
   "id": "76040d6e-eb6e-47bf-8a5f-5b2a3854a07d",
   "metadata": {},
   "outputs": [
    {
     "name": "stdout",
     "output_type": "stream",
     "text": [
      "{'2007_000027.jpg': [12695], '2007_000032.jpg': [10181, 10182, 10183, 10184], '2007_000033.jpg': [12585, 12586, 12587], '2007_000039.jpg': [24934], '2007_000061.jpg': [37805, 37806], '2007_000063.jpg': [37560, 37561], '2007_000068.jpg': [7529], '2007_000121.jpg': [9000, 9001], '2007_000123.jpg': [5996], '2007_000170.jpg': [23527, 23528, 23529, 23530, 23531, 23532], '2007_000175.jpg': [26120], '2007_000243.jpg': [9705], '2007_000256.jpg': [7989], '2007_000272.jpg': [30383], '2007_000323.jpg': [9330, 9331], '2007_000332.jpg': [1925], '2007_000333.jpg': [619], '2007_000364.jpg': [21772, 21773, 21774], '2007_000392.jpg': [11811, 11812], '2007_000423.jpg': [11900, 11901], '2007_000452.jpg': [6692, 6693], '2007_000480.jpg': [4194, 4195, 4196, 4197], '2007_000491.jpg': [6534], '2007_000504.jpg': [39700, 39701, 39702, 39703], '2007_000515.jpg': [32277, 32278, 32279, 32280], '2007_000528.jpg': [30496], '2007_000529.jpg': [32228, 32229], '2007_000549.jpg': [24605], '2007_000559.jpg': [25431, 25432], '2007_000572.jpg': [27972, 27973], '2007_000584.jpg': [18217, 18218], '2007_000629.jpg': [20987, 20988], '2007_000636.jpg': [14151], '2007_000645.jpg': [5986, 5987], '2007_000648.jpg': [34205, 34206, 34207, 34208, 34209, 34210, 34211], '2007_000661.jpg': [33674, 33675, 33676], '2007_000663.jpg': [31567, 31568, 31569, 31570, 31571, 31572], '2007_000664.jpg': [36265], '2007_000676.jpg': [31065], '2007_000713.jpg': [37824, 37825], '2007_000720.jpg': [2675], '2007_000727.jpg': [10035, 10036, 10037, 10038, 10039, 10040, 10041, 10042], '2007_000733.jpg': [9995, 9996], '2007_000738.jpg': [35334], '2007_000762.jpg': [22526, 22527, 22528, 22529, 22530, 22531, 22532, 22533], '2007_000768.jpg': [10279, 10280], '2007_000783.jpg': [10293, 10294], '2007_000804.jpg': [13807, 13808, 13809], '2007_000807.jpg': [11345], '2007_000822.jpg': [28870, 28871], '2007_000830.jpg': [23872, 23873, 23874, 23875], '2007_000836.jpg': [28970, 28971], '2007_000837.jpg': [28679], '2007_000847.jpg': [34102, 34103], '2007_000862.jpg': [6078, 6079], '2007_000904.jpg': [196, 197, 198], '2007_000925.jpg': [30281, 30282], '2007_001073.jpg': [11869, 11870, 11871, 11872, 11873, 11874], '2007_001149.jpg': [9658, 9659, 9660], '2007_001175.jpg': [9728, 9729, 9730], '2007_001185.jpg': [34659, 34660, 34661, 34662], '2007_001225.jpg': [33700], '2007_001239.jpg': [4033, 4034, 4035], '2007_001284.jpg': [23940, 23941, 23942, 23943, 23944, 23945], '2007_001289.jpg': [16388], '2007_001299.jpg': [14053, 14054, 14055], '2007_001311.jpg': [12523, 12524, 12525, 12526, 12527, 12528, 12529, 12530, 12531, 12532], '2007_001340.jpg': [35316, 35317, 35318, 35319], '2007_001397.jpg': [35431], '2007_001416.jpg': [2772, 2773, 2774, 2775, 2776, 2777], '2007_001423.jpg': [32795], '2007_001430.jpg': [40066, 40067, 40068, 40069, 40070, 40071, 40072], '2007_001439.jpg': [10020, 10021], '2007_001457.jpg': [20154, 20155], '2007_001458.jpg': [15245], '2007_001487.jpg': [27327], '2007_001526.jpg': [28538, 28539, 28540, 28541, 28542], '2007_001558.jpg': [8648, 8649], '2007_001568.jpg': [31064], '2007_001583.jpg': [31281, 31282], '2007_001585.jpg': [36334, 36335, 36336], '2007_001587.jpg': [39014], '2007_001594.jpg': [33996, 33997, 33998, 33999, 34000, 34001, 34002], '2007_001595.jpg': [34016, 34017], '2007_001602.jpg': [2156, 2157], '2007_001609.jpg': [33013, 33014, 33015, 33016, 33017], '2007_001627.jpg': [38014], '2007_001630.jpg': [35584, 35585, 35586, 35587, 35588, 35589, 35590], '2007_001667.jpg': [17303], '2007_001677.jpg': [13088, 13089], '2007_001678.jpg': [27926, 27927, 27928, 27929, 27930, 27931], '2007_001704.jpg': [19368], '2007_001733.jpg': [25754, 25755, 25756, 25757, 25758, 25759, 25760, 25761, 25762, 25763, 25764, 25765, 25766, 25767, 25768, 25769, 25770, 25771, 25772], '2007_001764.jpg': [6819, 6820, 6821, 6822, 6823, 6824], '2007_001825.jpg': [2065, 2066], '2007_001834.jpg': [9500], '2007_001872.jpg': [20509], '2007_001884.jpg': [10477, 10478, 10479, 10480], '2007_001901.jpg': [26654, 26655, 26656, 26657, 26658], '2007_001955.jpg': [8379, 8380], ...}\n"
     ]
    }
   ],
   "source": [
    "cols = ['filename', 'id', 'center_x', 'center_y', 'w', 'h']\n",
    "groupby_obj_train = train_df[cols].groupby('filename')\n",
    "groupby_obj_test = test_df[cols].groupby('filename')\n",
    "print(groupby_obj_train.groups)"
   ]
  },
  {
   "cell_type": "code",
   "execution_count": 31,
   "id": "6819846c-72f9-477e-9570-fb43c5d10f4c",
   "metadata": {},
   "outputs": [],
   "source": [
    "def save_data(filename, folder_path, group_obj):\n",
    "    src = os.path.join('data_images',filename)\n",
    "    dst = os.path.join(folder_path,filename)\n",
    "    move(src,dst)\n",
    "    text_filename = os.path.join(folder_path, os.path.splitext(filename)[0]+'.txt')\n",
    "    group_obj.get_group(filename).set_index('filename').to_csv(text_filename,sep=' ',index=False,header=False)\n",
    "    "
   ]
  },
  {
   "cell_type": "code",
   "execution_count": 39,
   "id": "34ed8adf-0c47-4fa1-9e51-1ee225ba2f24",
   "metadata": {},
   "outputs": [],
   "source": [
    "filename_series = pd.Series(groupby_obj_train.groups.keys())"
   ]
  },
  {
   "cell_type": "code",
   "execution_count": 42,
   "id": "03dfb8e3-97b2-481a-b978-b3f4a5d476d7",
   "metadata": {},
   "outputs": [
    {
     "data": {
      "text/plain": [
       "0        None\n",
       "1        None\n",
       "2        None\n",
       "3        None\n",
       "4        None\n",
       "         ... \n",
       "13695    None\n",
       "13696    None\n",
       "13697    None\n",
       "13698    None\n",
       "13699    None\n",
       "Length: 13700, dtype: object"
      ]
     },
     "execution_count": 42,
     "metadata": {},
     "output_type": "execute_result"
    }
   ],
   "source": [
    "filename_series.apply(save_data,args=(train_folder,groupby_obj_train))"
   ]
  },
  {
   "cell_type": "code",
   "execution_count": 43,
   "id": "e6a73901-8ebd-461a-bf52-b152086b6e92",
   "metadata": {},
   "outputs": [
    {
     "data": {
      "text/plain": [
       "0       None\n",
       "1       None\n",
       "2       None\n",
       "3       None\n",
       "4       None\n",
       "        ... \n",
       "3420    None\n",
       "3421    None\n",
       "3422    None\n",
       "3423    None\n",
       "3424    None\n",
       "Length: 3425, dtype: object"
      ]
     },
     "execution_count": 43,
     "metadata": {},
     "output_type": "execute_result"
    }
   ],
   "source": [
    "filename_series_test = pd.Series(groupby_obj_test.groups.keys())\n",
    "filename_series_test.apply(save_data,args=(test_folder,groupby_obj_test))"
   ]
  },
  {
   "cell_type": "code",
   "execution_count": null,
   "id": "c26ba01d-6d7e-4be5-83f2-481a05b987cc",
   "metadata": {},
   "outputs": [],
   "source": []
  }
 ],
 "metadata": {
  "kernelspec": {
   "display_name": "Python 3 (ipykernel)",
   "language": "python",
   "name": "python3"
  },
  "language_info": {
   "codemirror_mode": {
    "name": "ipython",
    "version": 3
   },
   "file_extension": ".py",
   "mimetype": "text/x-python",
   "name": "python",
   "nbconvert_exporter": "python",
   "pygments_lexer": "ipython3",
   "version": "3.12.5"
  }
 },
 "nbformat": 4,
 "nbformat_minor": 5
}
