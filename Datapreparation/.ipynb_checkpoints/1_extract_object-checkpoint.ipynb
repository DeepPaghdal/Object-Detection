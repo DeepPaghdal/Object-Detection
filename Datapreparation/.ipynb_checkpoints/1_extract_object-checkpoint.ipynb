{
 "cells": [
  {
   "cell_type": "code",
   "execution_count": 20,
   "id": "49cd618f-8516-4308-8ad6-fb6188a75004",
   "metadata": {},
   "outputs": [],
   "source": [
    "import os \n",
    "from glob import glob\n",
    "import pandas as pd\n",
    "from functools import reduce\n",
    "from xml.etree import ElementTree as et"
   ]
  },
  {
   "cell_type": "code",
   "execution_count": 21,
   "id": "592968cd-015e-4122-b2ef-045465ebcb43",
   "metadata": {},
   "outputs": [],
   "source": [
    "# get path of xml file\n",
    "xmlfiles = glob('./data_images/*.xml')\n",
    "# replace\n",
    "replace_text = lambda x:x.replace('\\\\', '/')\n",
    "xmlfiles = list(map(replace_text, xmlfiles))"
   ]
  },
  {
   "cell_type": "code",
   "execution_count": 22,
   "id": "4fe49c93-5dab-4262-b25c-934322d8314f",
   "metadata": {},
   "outputs": [
    {
     "data": {
      "text/plain": [
       "['./data_images/2.xml', './data_images/3.xml', './data_images/1.xml']"
      ]
     },
     "execution_count": 22,
     "metadata": {},
     "output_type": "execute_result"
    }
   ],
   "source": [
    "xmlfiles"
   ]
  },
  {
   "cell_type": "code",
   "execution_count": 42,
   "id": "84b6289d-9e3a-4126-9003-f217a9f919fb",
   "metadata": {},
   "outputs": [
    {
     "name": "stdout",
     "output_type": "stream",
     "text": [
      "[['1.png', '800', '416', 'Car', '4', '335', '17', '342'], ['1.png', '800', '416', 'Car', '4', '335', '17', '342']]\n"
     ]
    }
   ],
   "source": [
    "# read xml files \n",
    "def extract(filename):\n",
    "    tree = et.parse(filename)\n",
    "    root = tree.getroot()\n",
    "    \n",
    "    # extract filename \n",
    "    image_name = root.find('filename').text\n",
    "    # width and height\n",
    "    width = root.find('size').find('width').text\n",
    "    height = root.find('size').find('height').text\n",
    "    objs = root.findall('object')\n",
    "    parser = []\n",
    "    \n",
    "    for obj in objs:\n",
    "        \n",
    "        obj = objs[0]\n",
    "        name = obj.find('name').text\n",
    "        bndbox = obj.find('bndbox')\n",
    "        xmin = bndbox.find('xmin').text\n",
    "        xmax = bndbox.find('xmax').text\n",
    "        ymin = bndbox.find('ymin').text\n",
    "        ymax = bndbox.find('ymax').text\n",
    "        parser.append([image_name, width, height, name, xmin, xmax, ymin, ymax])\n",
    "        \n",
    "    return parser"
   ]
  },
  {
   "cell_type": "code",
   "execution_count": 43,
   "id": "faca410c-bcf7-42c0-a76c-826d368f0a6a",
   "metadata": {},
   "outputs": [
    {
     "data": {
      "text/plain": [
       "[['1.png', '800', '416', 'Car', '4', '335', '17', '342'],\n",
       " ['1.png', '800', '416', 'Car', '4', '335', '17', '342']]"
      ]
     },
     "execution_count": 43,
     "metadata": {},
     "output_type": "execute_result"
    }
   ],
   "source": [
    "parser"
   ]
  },
  {
   "cell_type": "code",
   "execution_count": null,
   "id": "74708262-5ca7-4697-999f-9b836b53c965",
   "metadata": {},
   "outputs": [],
   "source": []
  },
  {
   "cell_type": "code",
   "execution_count": null,
   "id": "cc2ffc2a-3b49-48dd-b921-6902c04a0886",
   "metadata": {},
   "outputs": [],
   "source": []
  },
  {
   "cell_type": "code",
   "execution_count": null,
   "id": "fd82495c-314f-4dfc-8c65-a018aab6bf2c",
   "metadata": {},
   "outputs": [],
   "source": []
  }
 ],
 "metadata": {
  "kernelspec": {
   "display_name": "Python 3 (ipykernel)",
   "language": "python",
   "name": "python3"
  },
  "language_info": {
   "codemirror_mode": {
    "name": "ipython",
    "version": 3
   },
   "file_extension": ".py",
   "mimetype": "text/x-python",
   "name": "python",
   "nbconvert_exporter": "python",
   "pygments_lexer": "ipython3",
   "version": "3.12.4"
  }
 },
 "nbformat": 4,
 "nbformat_minor": 5
}
